{
 "cells": [
  {
   "cell_type": "markdown",
   "metadata": {},
   "source": [
    "# Azure OpenAI Chat Basics\n",
    "\n",
    "This notebook contains basic chat discussion towards Azure OpenAI.\n",
    "\n",
    "## Pre-requirements \n",
    "\n",
    "Create OpenAI service to Azure and deploy at least one model. Fill your own *config.jsonc* file. You can find an example file from *example-config.jsonc*."
   ]
  },
  {
   "cell_type": "code",
   "execution_count": 5,
   "metadata": {},
   "outputs": [
    {
     "name": "stdout",
     "output_type": "stream",
     "text": [
      "Note: you may need to restart the kernel to use updated packages.\n"
     ]
    }
   ],
   "source": [
    "%pip install --upgrade --quiet openai"
   ]
  },
  {
   "cell_type": "code",
   "execution_count": 2,
   "metadata": {},
   "outputs": [],
   "source": [
    "# Import configuration and initliaze client\n",
    "from openai import AzureOpenAI\n",
    "import json\n",
    "\n",
    "config = json.load(open('config.jsonc'))\n",
    "\n",
    "client = AzureOpenAI(\n",
    "    api_version=config['azure_oai_api_version'],\n",
    "    azure_endpoint=config['azure_oai_endpoint'],\n",
    "    api_key=config['azure_oai_key']\n",
    ")\n",
    "deployment_name=config['azure_oai_deployment_name']"
   ]
  },
  {
   "cell_type": "markdown",
   "metadata": {},
   "source": [
    "## General chat discussion\n",
    "\n",
    "This only uses chat to get text based answers from the model."
   ]
  },
  {
   "cell_type": "code",
   "execution_count": 7,
   "metadata": {},
   "outputs": [
    {
     "name": "stdout",
     "output_type": "stream",
     "text": [
      "System message:  You are an AI assistant that helps people find information.\n",
      "User message:  Make three innovative names for synchronized skating team.\n",
      "Response:  1. \"Glacial Harmony\"\n",
      "2. \"Ice Vortex Velocity\"\n",
      "3. \"Polar Rhythm Blazers\"\n",
      "Cost:  55\n",
      "ChatCompletion(id='chatcmpl-8yRy5VbcuJra84BpKt78q505YwFkT', choices=[Choice(finish_reason='stop', index=0, logprobs=None, message=ChatCompletionMessage(content='1. \"Glacial Harmony\"\\n2. \"Ice Vortex Velocity\"\\n3. \"Polar Rhythm Blazers\"', role='assistant', function_call=None, tool_calls=None))], created=1709417881, model='gpt-4', object='chat.completion', system_fingerprint=None, usage=CompletionUsage(completion_tokens=24, prompt_tokens=31, total_tokens=55))\n"
     ]
    }
   ],
   "source": [
    "# Make discussion\n",
    "message_text = [\n",
    "    {\n",
    "        \"role\":\"system\",\n",
    "        \"content\":\"You are an AI assistant that helps people find information.\"\n",
    "    },\n",
    "    {\n",
    "        \"role\": \"user\",\n",
    "        \"content\": \"Make three innovative names for synchronized skating team.\"\n",
    "    }\n",
    "]\n",
    "\n",
    "response = client.chat.completions.create(\n",
    "    model=deployment_name,\n",
    "    messages=message_text,\n",
    "    max_tokens=30\n",
    ")\n",
    "\n",
    "print(\"System message: \", message_text[0]['content'])\n",
    "print(\"User message: \", message_text[1]['content'])\n",
    "print(\"Response: \",response.choices[0].message.content)\n",
    "print(\"Cost: \", response.usage.total_tokens)"
   ]
  }
 ],
 "metadata": {
  "kernelspec": {
   "display_name": "Python 3",
   "language": "python",
   "name": "python3"
  },
  "language_info": {
   "codemirror_mode": {
    "name": "ipython",
    "version": 3
   },
   "file_extension": ".py",
   "mimetype": "text/x-python",
   "name": "python",
   "nbconvert_exporter": "python",
   "pygments_lexer": "ipython3",
   "version": "3.10.12"
  }
 },
 "nbformat": 4,
 "nbformat_minor": 2
}
