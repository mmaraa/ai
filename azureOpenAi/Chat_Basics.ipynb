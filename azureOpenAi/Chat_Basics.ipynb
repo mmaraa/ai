{
 "cells": [
  {
   "cell_type": "markdown",
   "metadata": {},
   "source": [
    "# Azure OpenAI Chat Basics\n",
    "\n",
    "This notebook contains basic chat discussion towards Azure OpenAI.\n",
    "\n",
    "## Pre-requirements \n",
    "\n",
    "Create OpenAI service to Azure and deploy at least one model. Fill your own *config.jsonc* file. You can find an example file from *example-config.jsonc*."
   ]
  },
  {
   "cell_type": "code",
   "execution_count": null,
   "metadata": {},
   "outputs": [],
   "source": [
    "%pip install --upgrade --quiet openai jsonc-parser"
   ]
  },
  {
   "cell_type": "code",
   "execution_count": null,
   "metadata": {},
   "outputs": [],
   "source": [
    "# Import configuration and initliaze client\n",
    "from openai import AzureOpenAI\n",
    "from jsonc_parser.parser import JsoncParser\n",
    "import json\n",
    "\n",
    "config = JsoncParser.parse_file('config.jsonc')\n",
    "\n",
    "client = AzureOpenAI(\n",
    "    api_version=config['azure_oai_api_version'],\n",
    "    azure_endpoint=config['azure_oai_endpoint'],\n",
    "    api_key=config['azure_oai_key']\n",
    ")\n",
    "gpt_model_name=config['azure_oai_gpt_model_name']"
   ]
  },
  {
   "cell_type": "markdown",
   "metadata": {},
   "source": [
    "## General chat discussion\n",
    "\n",
    "This only uses chat to get text based answers from the model."
   ]
  },
  {
   "cell_type": "code",
   "execution_count": null,
   "metadata": {},
   "outputs": [],
   "source": [
    "# Make discussion\n",
    "message_text = [\n",
    "    {\n",
    "        \"role\":\"system\",\n",
    "        \"content\":\"You are an AI assistant that helps people find information.\"\n",
    "    },\n",
    "    {\n",
    "        \"role\": \"user\",\n",
    "        \"content\": \"Make three innovative names for synchronized skating team.\"\n",
    "    }\n",
    "]\n",
    "\n",
    "response = client.chat.completions.create(\n",
    "    model=gpt_model_name,\n",
    "    messages=message_text,\n",
    "    max_tokens=30\n",
    ")\n",
    "\n",
    "print(\"System message: \", message_text[0]['content'])\n",
    "print(\"User message: \", message_text[1]['content'])\n",
    "print(\"Response: \",response.choices[0].message.content)\n",
    "print(\"Cost: \", response.usage.total_tokens)"
   ]
  }
 ],
 "metadata": {
  "kernelspec": {
   "display_name": "Python 3",
   "language": "python",
   "name": "python3"
  },
  "language_info": {
   "codemirror_mode": {
    "name": "ipython",
    "version": 3
   },
   "file_extension": ".py",
   "mimetype": "text/x-python",
   "name": "python",
   "nbconvert_exporter": "python",
   "pygments_lexer": "ipython3",
   "version": "3.10.12"
  }
 },
 "nbformat": 4,
 "nbformat_minor": 2
}
